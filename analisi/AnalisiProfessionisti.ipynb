{
 "cells": [
  {
   "cell_type": "markdown",
   "id": "0c2d189b",
   "metadata": {},
   "source": [
    "## Analisi Professionisti"
   ]
  },
  {
   "cell_type": "code",
   "execution_count": null,
   "id": "a4891cf7",
   "metadata": {},
   "outputs": [],
   "source": [
    "!pip install pandas -q\n",
    "!pip install pandas-profiling -q"
   ]
  },
  {
   "cell_type": "code",
   "execution_count": null,
   "id": "e12cb4ce",
   "metadata": {},
   "outputs": [],
   "source": [
    "import json\n",
    "import pandas as pd\n",
    "import numpy as np"
   ]
  },
  {
   "cell_type": "markdown",
   "id": "d8f1d310",
   "metadata": {},
   "source": [
    "### Justia"
   ]
  },
  {
   "cell_type": "code",
   "execution_count": null,
   "id": "a6e8a9c9",
   "metadata": {},
   "outputs": [],
   "source": [
    "openfile = open('lawyers.json')\n",
    "jsondata = json.load(openfile)\n",
    "lawyers = pd.DataFrame(jsondata)\n",
    "\n",
    "openfile.close()\n",
    "\n",
    "lawyers.head(5)"
   ]
  },
  {
   "cell_type": "code",
   "execution_count": null,
   "id": "f6994532",
   "metadata": {},
   "outputs": [],
   "source": [
    "from pandas_profiling import ProfileReport \n",
    "profile=ProfileReport(lawyers)\n",
    "profile.to_notebook_iframe()"
   ]
  },
  {
   "cell_type": "markdown",
   "id": "3dd65eef",
   "metadata": {},
   "source": [
    "### Zocdoc"
   ]
  },
  {
   "cell_type": "code",
   "execution_count": null,
   "id": "d72c0d47",
   "metadata": {},
   "outputs": [],
   "source": [
    "openfile = open('doctors.json')\n",
    "jsondata = json.load(openfile)\n",
    "doctors = pd.DataFrame(jsondata)\n",
    "\n",
    "openfile.close()\n",
    "\n",
    "doctors.head(5)"
   ]
  },
  {
   "cell_type": "code",
   "execution_count": null,
   "id": "e0032432",
   "metadata": {},
   "outputs": [],
   "source": [
    "from pandas_profiling import ProfileReport \n",
    "profile=ProfileReport(doctors)\n",
    "profile.to_notebook_iframe()"
   ]
  },
  {
   "cell_type": "code",
   "execution_count": null,
   "id": "99a4d99a",
   "metadata": {},
   "outputs": [],
   "source": []
  }
 ],
 "metadata": {
  "kernelspec": {
   "display_name": "Python 3",
   "language": "python",
   "name": "python3"
  },
  "language_info": {
   "codemirror_mode": {
    "name": "ipython",
    "version": 3
   },
   "file_extension": ".py",
   "mimetype": "text/x-python",
   "name": "python",
   "nbconvert_exporter": "python",
   "pygments_lexer": "ipython3",
   "version": "3.8.8"
  }
 },
 "nbformat": 4,
 "nbformat_minor": 5
}
