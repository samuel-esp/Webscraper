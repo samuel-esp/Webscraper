{
 "cells": [
  {
   "cell_type": "markdown",
   "id": "aca02ebc",
   "metadata": {},
   "source": [
    "## Analisi Compagnie"
   ]
  },
  {
   "cell_type": "code",
   "execution_count": null,
   "id": "b79f113a",
   "metadata": {},
   "outputs": [],
   "source": [
    "!pip install pandas -q\n",
    "!pip install pandas-profiling -q"
   ]
  },
  {
   "cell_type": "code",
   "execution_count": null,
   "id": "5cfbffa5",
   "metadata": {},
   "outputs": [],
   "source": [
    "import json\n",
    "import pandas as pd\n",
    "import numpy as np"
   ]
  },
  {
   "cell_type": "markdown",
   "id": "70f9a266",
   "metadata": {},
   "source": [
    "### Yelp"
   ]
  },
  {
   "cell_type": "code",
   "execution_count": null,
   "id": "408e8740",
   "metadata": {},
   "outputs": [],
   "source": [
    "openfile = open('companies.json')\n",
    "jsondata = json.load(openfile)\n",
    "companies = pd.DataFrame(jsondata)\n",
    "\n",
    "openfile.close()\n",
    "\n",
    "companies.head(5)"
   ]
  },
  {
   "cell_type": "code",
   "execution_count": null,
   "id": "ec3a1d0f",
   "metadata": {},
   "outputs": [],
   "source": [
    "from pandas_profiling import ProfileReport \n",
    "profile=ProfileReport(companies)\n",
    "profile.to_notebook_iframe()"
   ]
  },
  {
   "cell_type": "markdown",
   "id": "4f4b3c4d",
   "metadata": {},
   "source": [
    "### Indeed"
   ]
  },
  {
   "cell_type": "code",
   "execution_count": null,
   "id": "59c34f7e",
   "metadata": {},
   "outputs": [],
   "source": [
    "openfile = open('indeed.json')\n",
    "jsondata = json.load(openfile)\n",
    "indeed = pd.DataFrame(jsondata)\n",
    "\n",
    "openfile.close()\n",
    "\n",
    "indeed.head(5)"
   ]
  },
  {
   "cell_type": "code",
   "execution_count": null,
   "id": "d1cc9096",
   "metadata": {},
   "outputs": [],
   "source": [
    "from pandas_profiling import ProfileReport \n",
    "profile=ProfileReport(indeed)\n",
    "profile.to_notebook_iframe()"
   ]
  },
  {
   "cell_type": "code",
   "execution_count": null,
   "id": "bbec5e1d",
   "metadata": {},
   "outputs": [],
   "source": []
  }
 ],
 "metadata": {
  "kernelspec": {
   "display_name": "Python 3",
   "language": "python",
   "name": "python3"
  },
  "language_info": {
   "codemirror_mode": {
    "name": "ipython",
    "version": 3
   },
   "file_extension": ".py",
   "mimetype": "text/x-python",
   "name": "python",
   "nbconvert_exporter": "python",
   "pygments_lexer": "ipython3",
   "version": "3.8.8"
  }
 },
 "nbformat": 4,
 "nbformat_minor": 5
}
